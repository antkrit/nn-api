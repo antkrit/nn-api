{
 "cells": [
  {
   "cell_type": "code",
   "execution_count": 1,
   "metadata": {
    "collapsed": true,
    "pycharm": {
     "name": "#%%\n"
    }
   },
   "outputs": [],
   "source": [
    "import numpy as np\n",
    "\n",
    "from api.lib.functions.loss import mse\n",
    "from api.lib.functions.activation import tanh\n",
    "from api.lib.optimization import GradientDescent\n",
    "from api.lib.autograd import Session, Graph, Variable, Placeholder"
   ]
  },
  {
   "cell_type": "markdown",
   "source": [
    "# XOR problem\n",
    "The XOR problem is a classic problem in neural networks researches. The problem is this:\n",
    "given the two inputs (data can only be '0' or '1'), we need to predict the value of XOR function.\n",
    "\n",
    "Here are all the possible inputs and outputs:\n",
    "\n",
    " x | y | out\n",
    "--- |---| ---\n",
    " 0 | 0 | 0\n",
    " 0 | 1 | 1\n",
    " 1 | 0 | 1\n",
    " 1 | 1 | 0\n"
   ],
   "metadata": {
    "collapsed": false,
    "pycharm": {
     "name": "#%% md\n"
    }
   }
  },
  {
   "cell_type": "code",
   "execution_count": 36,
   "outputs": [
    {
     "name": "stdout",
     "output_type": "stream",
     "text": [
      "Step: 0  Loss: 0.4530804178459019\n",
      "Step: 10  Loss: 0.24154148489177912\n",
      "Step: 20  Loss: 0.19993484825195035\n",
      "Step: 30  Loss: 0.13737846872258985\n",
      "Step: 40  Loss: 0.03534699618919668\n",
      "Step: 50  Loss: 0.015154009084792957\n",
      "Step: 60  Loss: 0.009166973117562803\n",
      "Step: 70  Loss: 0.006442777881102591\n",
      "Step: 80  Loss: 0.004916423336228117\n",
      "Step: 90  Loss: 0.003950487537511078\n",
      "\n",
      "[0 0]: [0.01118732]\n",
      "[0 1]: [0.91846613]\n",
      "[1 0]: [0.92175202]\n",
      "[1 1]: [-0.00390934]\n"
     ]
    }
   ],
   "source": [
    "Graph().as_default()\n",
    "X = Placeholder('x')\n",
    "y = Placeholder('y')\n",
    "\n",
    "# Create a hidden layer with 3 nodes\n",
    "W_hidden = Variable(np.random.randn(2, 3))\n",
    "b_hidden = Variable(np.random.randn(3))\n",
    "p_hidden = tanh(X @ W_hidden + b_hidden)\n",
    "\n",
    "# Create the output layer\n",
    "W_output = Variable(np.random.randn(3, 1))\n",
    "b_output = Variable(np.random.randn(1))\n",
    "p_output = tanh(p_hidden @ W_output + b_output)\n",
    "\n",
    "# Calculate mse loss\n",
    "J = mse(p_output, y)\n",
    "\n",
    "optimizer_op = GradientDescent(lr=0.1).minimize(J)\n",
    "\n",
    "x_train = np.array([[[0,0]], [[0,1]], [[1,0]], [[1,1]]])\n",
    "y_train = np.array([[[0]], [[1]], [[1]], [[0]]])\n",
    "\n",
    "sess = Session()\n",
    "samples = len(x_train)\n",
    "# Perform 100 iterations\n",
    "for step in range(100):\n",
    "    err = 0\n",
    "\n",
    "    for j in range(samples):\n",
    "        feed_dict = {\n",
    "            'x': x_train[j],\n",
    "            'y': y_train[j]\n",
    "        }\n",
    "        err += sess.run(J, feed_dict)\n",
    "        sess.run(optimizer_op, feed_dict)  # update parameters\n",
    "\n",
    "    if step % 10 == 0:\n",
    "            print(\"Step:\", step, \" Loss:\", err / samples)\n",
    "\n",
    "print()\n",
    "\n",
    "# Predict values\n",
    "for i in range(samples):\n",
    "    output = sess.run(p_output, {'x': x_train[i]})\n",
    "    print(f\"{x_train[i][0]}: {output[0]}\")"
   ],
   "metadata": {
    "collapsed": false,
    "pycharm": {
     "name": "#%%\n"
    }
   }
  }
 ],
 "metadata": {
  "kernelspec": {
   "display_name": "Python 3",
   "language": "python",
   "name": "python3"
  },
  "language_info": {
   "codemirror_mode": {
    "name": "ipython",
    "version": 2
   },
   "file_extension": ".py",
   "mimetype": "text/x-python",
   "name": "python",
   "nbconvert_exporter": "python",
   "pygments_lexer": "ipython2",
   "version": "2.7.6"
  }
 },
 "nbformat": 4,
 "nbformat_minor": 0
}
{
 "cells": [
  {
   "cell_type": "code",
   "execution_count": 1,
   "metadata": {
    "collapsed": true,
    "pycharm": {
     "name": "#%%\n"
    }
   },
   "outputs": [],
   "source": [
    "import numpy as np\n",
    "\n",
    "from api.core.generic import Model\n",
    "from api.core.layers import Dense\n",
    "from api.core.optimizers import GradientDescent"
   ]
  },
  {
   "cell_type": "markdown",
   "source": [
    "# XOR problem\n",
    "The XOR problem is a classic problem in neural networks researches. The problem is this:\n",
    "given the two inputs (data can only be '0' or '1'), we need to predict the value of XOR function.\n",
    "\n",
    "Here are all the possible inputs and outputs:\n",
    "\n",
    " x | y | out\n",
    "--- |---| ---\n",
    " 0 | 0 | 0\n",
    " 0 | 1 | 1\n",
    " 1 | 0 | 1\n",
    " 1 | 1 | 0\n"
   ],
   "metadata": {
    "collapsed": false,
    "pycharm": {
     "name": "#%% md\n"
    }
   }
  },
  {
   "cell_type": "code",
   "execution_count": 2,
   "outputs": [
    {
     "data": {
      "text/plain": "  0%|          | 0/10000 [00:00<?, ?it/s]",
      "application/vnd.jupyter.widget-view+json": {
       "version_major": 2,
       "version_minor": 0,
       "model_id": "630bb00a474e4642abe0181fa44227d4"
      }
     },
     "metadata": {},
     "output_type": "display_data"
    }
   ],
   "source": [
    "x_train = np.array([[[0, 0]], [[0, 1]], [[1, 0]], [[1, 1]]])\n",
    "y_train = np.array([[[0]], [[1]], [[1]], [[0]]])\n",
    "\n",
    "optimizer = GradientDescent(learning_rate=0.3, momentum=0.1, nesterov=True)\n",
    "\n",
    "model = Model(input_shape=(1, 2))\n",
    "model.add(Dense(2, activation='sigmoid', weight_initializer='random_uniform'))\n",
    "model.add(Dense(1, activation='sigmoid', weight_initializer='random_uniform'))\n",
    "\n",
    "model.compile(\n",
    "    optimizer=optimizer,\n",
    "    loss='mean_squared_error',\n",
    "    metrics=['mean_absolute_error']\n",
    ")\n",
    "\n",
    "model.fit(x_train, y_train, validation_data=[x_train, y_train], batch_size=4, epochs=10000)"
   ],
   "metadata": {
    "collapsed": false,
    "pycharm": {
     "name": "#%%\n"
    }
   }
  },
  {
   "cell_type": "code",
   "execution_count": 3,
   "outputs": [
    {
     "data": {
      "text/plain": "  0%|          | 0/1 [00:00<?, ?it/s]",
      "application/vnd.jupyter.widget-view+json": {
       "version_major": 2,
       "version_minor": 0,
       "model_id": "4e1e5925329a4d00815254f7760eeb35"
      }
     },
     "metadata": {},
     "output_type": "display_data"
    },
    {
     "data": {
      "text/plain": "array([[[0.03792224]],\n\n       [[0.9560367 ]],\n\n       [[0.96530502]],\n\n       [[0.03375485]]])"
     },
     "execution_count": 3,
     "metadata": {},
     "output_type": "execute_result"
    }
   ],
   "source": [
    "model.predict(x_train)"
   ],
   "metadata": {
    "collapsed": false,
    "pycharm": {
     "name": "#%%\n"
    }
   }
  },
  {
   "cell_type": "code",
   "execution_count": null,
   "outputs": [],
   "source": [],
   "metadata": {
    "collapsed": false,
    "pycharm": {
     "name": "#%%\n"
    }
   }
  }
 ],
 "metadata": {
  "kernelspec": {
   "display_name": "Python 3",
   "language": "python",
   "name": "python3"
  },
  "language_info": {
   "codemirror_mode": {
    "name": "ipython",
    "version": 2
   },
   "file_extension": ".py",
   "mimetype": "text/x-python",
   "name": "python",
   "nbconvert_exporter": "python",
   "pygments_lexer": "ipython2",
   "version": "2.7.6"
  }
 },
 "nbformat": 4,
 "nbformat_minor": 0
}

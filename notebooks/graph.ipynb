{
 "cells": [
  {
   "cell_type": "code",
   "execution_count": 1,
   "metadata": {
    "collapsed": true,
    "pycharm": {
     "name": "#%%\n"
    }
   },
   "outputs": [],
   "source": [
    "import numpy as np\n",
    "\n",
    "from api.core.autograd import Graph, Session, Placeholder, Variable, ops"
   ]
  },
  {
   "cell_type": "code",
   "execution_count": 2,
   "outputs": [
    {
     "name": "stdout",
     "output_type": "stream",
     "text": [
      "Forward pass expected: 2.0\n",
      "Forward pass computed: 2.0\n",
      "dout/dx expected = 2.0\n",
      "dout/dx computed = 2.0\n",
      "dout/dy expected = 1.0\n",
      "dout/dy computed = 1.0\n"
     ]
    }
   ],
   "source": [
    "Graph().as_default()\n",
    "\n",
    "x_val, y_val = 0.5, 1\n",
    "x = Variable(x_val, name='x')\n",
    "y = Variable(y_val, name='y')\n",
    "out = 2*x + y\n",
    "\n",
    "sess = Session()\n",
    "forward = sess.run(out)\n",
    "x_grad, y_grad = sess.gradients(out, returns=[x, y])\n",
    "\n",
    "print(f\"Forward pass expected: {2*x_val + y_val}\")\n",
    "print(f\"Forward pass computed: {forward}\")\n",
    "\n",
    "print(f\"dout/dx expected = {2.0}\")\n",
    "print(f\"dout/dx computed = {x_grad}\")\n",
    "print(f\"dout/dy expected = {1.0}\")\n",
    "print(f\"dout/dy computed = {y_grad}\")"
   ],
   "metadata": {
    "collapsed": false,
    "pycharm": {
     "name": "#%%\n"
    }
   }
  },
  {
   "cell_type": "code",
   "execution_count": 3,
   "outputs": [
    {
     "name": "stdout",
     "output_type": "stream",
     "text": [
      "Forward pass expected: [0.73105858 0.88079708 0.95257413]\n",
      "Forward pass computed: [0.73105858 0.88079708 0.95257413]\n",
      "dout/dx expected = [0.19661193 0.10499359 0.04517666]\n",
      "dout/dx computed = [0.19661193 0.10499359 0.04517666]\n",
      "Forward pass expected: [1 2 3]\n",
      "Forward pass computed: [1 2 3]\n",
      "dout/dx expected = [1 1 1]\n",
      "dout/dx computed = [1. 1. 1.]\n"
     ]
    }
   ],
   "source": [
    "some_value = np.array([1, 2, 3])\n",
    "\n",
    "sigmoid_autograd = lambda x: 1 / (1 + ops.exp(-x))\n",
    "sigmoid_numpy = lambda x: 1 / (1 + np.exp(np.negative(x)))\n",
    "dsigmoid = lambda x: sigmoid_numpy(x) * (1 - sigmoid_numpy(x))\n",
    "\n",
    "relu_autograd = lambda x: ops.max(0, x)\n",
    "relu_numpy = lambda x: np.maximum(0, x)\n",
    "drelu = lambda x: np.where(x <= 0, 0, 1)\n",
    "\n",
    "with Graph() as g:\n",
    "    x = Placeholder('x')\n",
    "    out = sigmoid_autograd(x)\n",
    "\n",
    "    sess = Session()\n",
    "    forward = sess.run(out, feed_dict={x.name: some_value})\n",
    "    x_grad = grads = sess.gradients(out, returns=[x])\n",
    "\n",
    "    print(f\"Forward pass expected: {sigmoid_numpy(some_value)}\")\n",
    "    print(f\"Forward pass computed: {forward}\")\n",
    "\n",
    "    print(f\"dout/dx expected = {dsigmoid(some_value)}\")\n",
    "    print(f\"dout/dx computed = {x_grad}\")\n",
    "\n",
    "with Graph():\n",
    "    x = Placeholder('x')\n",
    "    out = relu_autograd(x)\n",
    "\n",
    "    sess = Session()\n",
    "    forward = sess.run(out, feed_dict={x.name: some_value})\n",
    "    x_grad = sess.gradients(out, returns=[x])\n",
    "\n",
    "    print(f\"Forward pass expected: {relu_numpy(some_value)}\")\n",
    "    print(f\"Forward pass computed: {forward}\")\n",
    "\n",
    "    print(f\"dout/dx expected = {drelu(some_value)}\")\n",
    "    print(f\"dout/dx computed = {x_grad}\")"
   ],
   "metadata": {
    "collapsed": false,
    "pycharm": {
     "name": "#%%\n"
    }
   }
  },
  {
   "cell_type": "code",
   "execution_count": null,
   "outputs": [],
   "source": [],
   "metadata": {
    "collapsed": false,
    "pycharm": {
     "name": "#%%\n"
    }
   }
  }
 ],
 "metadata": {
  "kernelspec": {
   "display_name": "Python 3",
   "language": "python",
   "name": "python3"
  },
  "language_info": {
   "codemirror_mode": {
    "name": "ipython",
    "version": 2
   },
   "file_extension": ".py",
   "mimetype": "text/x-python",
   "name": "python",
   "nbconvert_exporter": "python",
   "pygments_lexer": "ipython2",
   "version": "2.7.6"
  }
 },
 "nbformat": 4,
 "nbformat_minor": 0
}
